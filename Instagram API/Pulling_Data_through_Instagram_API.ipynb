{
  "nbformat": 4,
  "nbformat_minor": 0,
  "metadata": {
    "colab": {
      "name": "Pulling Data through Instagram API.ipynb",
      "provenance": [],
      "collapsed_sections": [],
      "mount_file_id": "1JVjlmgl0oE-2IENc2WRhco21FIZw2ldF",
      "authorship_tag": "ABX9TyPYYV1zq3GRI90RMdIa1Jsn",
      "include_colab_link": true
    },
    "kernelspec": {
      "name": "python3",
      "display_name": "Python 3"
    }
  },
  "cells": [
    {
      "cell_type": "markdown",
      "metadata": {
        "id": "view-in-github",
        "colab_type": "text"
      },
      "source": [
        "<a href=\"https://colab.research.google.com/github/chenchenga07/Python-Data-Analysis/blob/master/Instagram%20API/Pulling_Data_through_Instagram_API.ipynb\" target=\"_parent\"><img src=\"https://colab.research.google.com/assets/colab-badge.svg\" alt=\"Open In Colab\"/></a>"
      ]
    },
    {
      "cell_type": "code",
      "metadata": {
        "id": "16tAiYHEq-8I",
        "colab_type": "code",
        "colab": {}
      },
      "source": [
        "import requests\n",
        "import json\n",
        "import pandas as pd\n",
        "import yaml\n",
        "\n",
        "\n",
        "def business_discovery(\n",
        "        target_account: str,\n",
        "        limit_posts: int = 500\n",
        ") -> dict:\n",
        "    \n",
        "    #load my Instagram API Keys\n",
        "    with open('/content/drive/My Drive/Colab Notebooks/Instagram Data Analysis/api_keys.yml') as api_keys_config:\n",
        "        api_cred = yaml.safe_load(api_keys_config)\n",
        "        api_user_id = api_cred['ig_api']['user_id']\n",
        "        api_access_token = api_cred['ig_api']['access_token']\n",
        "    \n",
        "    #send request and get response\n",
        "    base_url = 'https://graph.facebook.com/v7.0/'\n",
        "    \n",
        "    url = f'{base_url}{api_user_id}'\n",
        "    \n",
        "    fields_template = 'business_discovery.username({target})' + \\\n",
        "        '{{followers_count,media_count,media.limit({limit})' + \\\n",
        "        '{{media_type,caption,comments_count,like_count,timestamp}}}}'\n",
        "    \n",
        "    params = {\n",
        "        'fields': fields_template.format(target=target_account, limit=limit_posts),\n",
        "        'access_token': api_access_token\n",
        "    }\n",
        "    \n",
        "    response = requests.get(url, params=params)\n",
        "\n",
        "    if response.ok:\n",
        "        data = json.loads(response.text)\n",
        "        return data\n",
        "    else:\n",
        "        raise requests.HTTPError(response)\n"
      ],
      "execution_count": 1,
      "outputs": []
    },
    {
      "cell_type": "code",
      "metadata": {
        "id": "p1PhBeSZd7e7",
        "colab_type": "code",
        "colab": {
          "base_uri": "https://localhost:8080/",
          "height": 224
        },
        "outputId": "c2439078-ee59-44ff-b4cd-1b8f2218553f"
      },
      "source": [
        "business_discovery('bluebottle',1) \n",
        "#try pull Bluebottle's latest post"
      ],
      "execution_count": 2,
      "outputs": [
        {
          "output_type": "execute_result",
          "data": {
            "text/plain": [
              "{'business_discovery': {'followers_count': 387563,\n",
              "  'id': '17841401441775531',\n",
              "  'media': {'data': [{'caption': 'Here’s to the peace and comfort of connecting over coffee. 📸hangrygirlz',\n",
              "     'comments_count': 1,\n",
              "     'id': '17843235818346024',\n",
              "     'like_count': 1193,\n",
              "     'media_type': 'IMAGE',\n",
              "     'timestamp': '2020-08-29T14:30:46+0000'}],\n",
              "   'paging': {'cursors': {'after': 'QVFIUnZA3WHcyb2lEeXlJWkp6NndYc1haWXdKSmlMT1FWdUxzY19aR2d2WHpFXzFYcmRWZAmtYVGxTSGVhWnVyck9SNXhxOU5UVGVsbnpGNExjRGZAsa1FKNENR'}}},\n",
              "  'media_count': 1629},\n",
              " 'id': '17841400840307442'}"
            ]
          },
          "metadata": {
            "tags": []
          },
          "execution_count": 2
        }
      ]
    },
    {
      "cell_type": "code",
      "metadata": {
        "id": "4JpMhj-Dbr_R",
        "colab_type": "code",
        "colab": {
          "base_uri": "https://localhost:8080/",
          "height": 204
        },
        "outputId": "3080f7dc-4769-43a9-ecfc-b71b2a9985d4"
      },
      "source": [
        "def post_statistics(\n",
        "        target_account: str,\n",
        "        limit_posts: int = 50,\n",
        ") -> pd.DataFrame:\n",
        "    timeline = business_discovery(target_account, limit_posts)\n",
        "\n",
        "    media = pd.DataFrame(timeline['business_discovery']['media']['data'])\n",
        "    return media\n",
        "\n",
        "#try pull Jimmychoo's latest 5 posts\n",
        "posts = post_statistics('jimmychoo',5)\n",
        "posts\n",
        "\n",
        "#posts.to_csv('posts.csv', index=True)\n",
        "#posts.to_excel('posts.xlsx', index = True)"
      ],
      "execution_count": 3,
      "outputs": [
        {
          "output_type": "execute_result",
          "data": {
            "text/html": [
              "<div>\n",
              "<style scoped>\n",
              "    .dataframe tbody tr th:only-of-type {\n",
              "        vertical-align: middle;\n",
              "    }\n",
              "\n",
              "    .dataframe tbody tr th {\n",
              "        vertical-align: top;\n",
              "    }\n",
              "\n",
              "    .dataframe thead th {\n",
              "        text-align: right;\n",
              "    }\n",
              "</style>\n",
              "<table border=\"1\" class=\"dataframe\">\n",
              "  <thead>\n",
              "    <tr style=\"text-align: right;\">\n",
              "      <th></th>\n",
              "      <th>media_type</th>\n",
              "      <th>caption</th>\n",
              "      <th>comments_count</th>\n",
              "      <th>like_count</th>\n",
              "      <th>timestamp</th>\n",
              "      <th>id</th>\n",
              "    </tr>\n",
              "  </thead>\n",
              "  <tbody>\n",
              "    <tr>\n",
              "      <th>0</th>\n",
              "      <td>IMAGE</td>\n",
              "      <td>Escape high summer afternoons and lounge in st...</td>\n",
              "      <td>55</td>\n",
              "      <td>22540</td>\n",
              "      <td>2020-08-29T14:01:08+0000</td>\n",
              "      <td>17885022049701442</td>\n",
              "    </tr>\n",
              "    <tr>\n",
              "      <th>1</th>\n",
              "      <td>IMAGE</td>\n",
              "      <td>Summer whites that last a lifetime: pair the L...</td>\n",
              "      <td>45</td>\n",
              "      <td>12764</td>\n",
              "      <td>2020-08-27T15:53:12+0000</td>\n",
              "      <td>17876236183821109</td>\n",
              "    </tr>\n",
              "    <tr>\n",
              "      <th>2</th>\n",
              "      <td>VIDEO</td>\n",
              "      <td>Coming soon: the latest #INMYCHOOS campaign fo...</td>\n",
              "      <td>102</td>\n",
              "      <td>12937</td>\n",
              "      <td>2020-08-25T16:02:50+0000</td>\n",
              "      <td>17959864612343903</td>\n",
              "    </tr>\n",
              "    <tr>\n",
              "      <th>3</th>\n",
              "      <td>IMAGE</td>\n",
              "      <td>Garden gatherings never looked so stylish than...</td>\n",
              "      <td>82</td>\n",
              "      <td>28575</td>\n",
              "      <td>2020-08-23T14:00:34+0000</td>\n",
              "      <td>17893325662599619</td>\n",
              "    </tr>\n",
              "    <tr>\n",
              "      <th>4</th>\n",
              "      <td>IMAGE</td>\n",
              "      <td>Taking a pause with the AUNA mules. Exuding a ...</td>\n",
              "      <td>70</td>\n",
              "      <td>18293</td>\n",
              "      <td>2020-08-22T13:59:38+0000</td>\n",
              "      <td>17922105067439662</td>\n",
              "    </tr>\n",
              "  </tbody>\n",
              "</table>\n",
              "</div>"
            ],
            "text/plain": [
              "  media_type  ...                 id\n",
              "0      IMAGE  ...  17885022049701442\n",
              "1      IMAGE  ...  17876236183821109\n",
              "2      VIDEO  ...  17959864612343903\n",
              "3      IMAGE  ...  17893325662599619\n",
              "4      IMAGE  ...  17922105067439662\n",
              "\n",
              "[5 rows x 6 columns]"
            ]
          },
          "metadata": {
            "tags": []
          },
          "execution_count": 3
        }
      ]
    },
    {
      "cell_type": "code",
      "metadata": {
        "id": "5d9q-65q9ZGO",
        "colab_type": "code",
        "colab": {
          "base_uri": "https://localhost:8080/",
          "height": 34
        },
        "outputId": "541ecf05-6d8a-404b-fea0-55639f3d4eb3"
      },
      "source": [
        "#get account total follower count\n",
        "def followers_c(\n",
        "        target_account: str,\n",
        "        limit_posts: int = 50,\n",
        ") -> pd.DataFrame:\n",
        "    timeline = business_discovery(target_account, limit_posts)\n",
        "    \n",
        "    followers_count = timeline['business_discovery']['followers_count']\n",
        "    return followers_count\n",
        "\n",
        "#try pull Stuartweitzman's total follower count\n",
        "total_followers = followers_c('stuartweitzman',1)\n",
        "total_followers"
      ],
      "execution_count": 4,
      "outputs": [
        {
          "output_type": "execute_result",
          "data": {
            "text/plain": [
              "1420535"
            ]
          },
          "metadata": {
            "tags": []
          },
          "execution_count": 4
        }
      ]
    },
    {
      "cell_type": "code",
      "metadata": {
        "id": "2Sa1Cqmg9sXJ",
        "colab_type": "code",
        "colab": {
          "base_uri": "https://localhost:8080/",
          "height": 34
        },
        "outputId": "597d194f-8055-4c0c-f843-92dcd3002e4f"
      },
      "source": [
        "#get account total post count\n",
        "def media_c(\n",
        "        target_account: str,\n",
        "        limit_posts: int = 50,\n",
        ") -> pd.DataFrame:\n",
        "    timeline = business_discovery(target_account, limit_posts)\n",
        "    \n",
        "    media_count = timeline['business_discovery']['media_count']\n",
        "    return media_count\n",
        "\n",
        "#try pull Stuartweitzman's total post count \n",
        "total_media = media_c('stuartweitzman',1)\n",
        "total_media"
      ],
      "execution_count": 5,
      "outputs": [
        {
          "output_type": "execute_result",
          "data": {
            "text/plain": [
              "4132"
            ]
          },
          "metadata": {
            "tags": []
          },
          "execution_count": 5
        }
      ]
    },
    {
      "cell_type": "code",
      "metadata": {
        "id": "jptL0xTeqySm",
        "colab_type": "code",
        "colab": {
          "base_uri": "https://localhost:8080/",
          "height": 374
        },
        "outputId": "ede77e33-4b6d-4af3-ba41-8135ecf1cd96"
      },
      "source": [
        "#list out all Instagram accounts we want to analyze\n",
        "target_usernames = ['stuartweitzman','aquazzura','gianvitorossi','manoloblahnik',\n",
        "                    'tamaramellon','tods','sergiorossi','mgemi',\n",
        "                    'jimmychoo','louboutinworld','ferragamo',\n",
        "                    'gucci','byfar_official']\n",
        "\n",
        "#export 1 file for multiple brands\n",
        "posts_all = [] #list\n",
        "\n",
        "for name in target_usernames:\n",
        "    posts = post_statistics(name,300)\n",
        "    posts['brand'] = name\n",
        "    posts['total_followers'] = followers_c(name,1)\n",
        "    posts['total_media'] = media_c(name,1)\n",
        "\n",
        "    posts_all.append(posts)\n",
        "\n",
        "\n",
        "posts_all_df =  pd.concat(posts_all, ignore_index=True) #to dataframe\n",
        "posts_all_df.head()"
      ],
      "execution_count": 6,
      "outputs": [
        {
          "output_type": "execute_result",
          "data": {
            "text/html": [
              "<div>\n",
              "<style scoped>\n",
              "    .dataframe tbody tr th:only-of-type {\n",
              "        vertical-align: middle;\n",
              "    }\n",
              "\n",
              "    .dataframe tbody tr th {\n",
              "        vertical-align: top;\n",
              "    }\n",
              "\n",
              "    .dataframe thead th {\n",
              "        text-align: right;\n",
              "    }\n",
              "</style>\n",
              "<table border=\"1\" class=\"dataframe\">\n",
              "  <thead>\n",
              "    <tr style=\"text-align: right;\">\n",
              "      <th></th>\n",
              "      <th>media_type</th>\n",
              "      <th>caption</th>\n",
              "      <th>comments_count</th>\n",
              "      <th>like_count</th>\n",
              "      <th>timestamp</th>\n",
              "      <th>id</th>\n",
              "      <th>brand</th>\n",
              "      <th>total_followers</th>\n",
              "      <th>total_media</th>\n",
              "    </tr>\n",
              "  </thead>\n",
              "  <tbody>\n",
              "    <tr>\n",
              "      <th>0</th>\n",
              "      <td>IMAGE</td>\n",
              "      <td>Vote for yourself. Vote for your community. Vo...</td>\n",
              "      <td>11</td>\n",
              "      <td>1180</td>\n",
              "      <td>2020-08-28T13:24:35+0000</td>\n",
              "      <td>18160097662007249</td>\n",
              "      <td>stuartweitzman</td>\n",
              "      <td>1420535</td>\n",
              "      <td>4132</td>\n",
              "    </tr>\n",
              "    <tr>\n",
              "      <th>1</th>\n",
              "      <td>VIDEO</td>\n",
              "      <td>Live footage from checking our voter registrat...</td>\n",
              "      <td>8</td>\n",
              "      <td>541</td>\n",
              "      <td>2020-08-26T20:50:00+0000</td>\n",
              "      <td>18160751644038539</td>\n",
              "      <td>stuartweitzman</td>\n",
              "      <td>1420535</td>\n",
              "      <td>4132</td>\n",
              "    </tr>\n",
              "    <tr>\n",
              "      <th>2</th>\n",
              "      <td>IMAGE</td>\n",
              "      <td>From our partner iamavoter: Four million young...</td>\n",
              "      <td>11</td>\n",
              "      <td>1325</td>\n",
              "      <td>2020-08-25T20:35:10+0000</td>\n",
              "      <td>17975347864313438</td>\n",
              "      <td>stuartweitzman</td>\n",
              "      <td>1420535</td>\n",
              "      <td>4132</td>\n",
              "    </tr>\n",
              "    <tr>\n",
              "      <th>3</th>\n",
              "      <td>IMAGE</td>\n",
              "      <td>Decisions are made by those who show up. Your ...</td>\n",
              "      <td>11</td>\n",
              "      <td>1409</td>\n",
              "      <td>2020-08-25T16:32:45+0000</td>\n",
              "      <td>17892158104606097</td>\n",
              "      <td>stuartweitzman</td>\n",
              "      <td>1420535</td>\n",
              "      <td>4132</td>\n",
              "    </tr>\n",
              "    <tr>\n",
              "      <th>4</th>\n",
              "      <td>IMAGE</td>\n",
              "      <td>Our limited-edition #5050VOTE boot, designed f...</td>\n",
              "      <td>12</td>\n",
              "      <td>1814</td>\n",
              "      <td>2020-08-24T16:45:05+0000</td>\n",
              "      <td>17903527630504083</td>\n",
              "      <td>stuartweitzman</td>\n",
              "      <td>1420535</td>\n",
              "      <td>4132</td>\n",
              "    </tr>\n",
              "  </tbody>\n",
              "</table>\n",
              "</div>"
            ],
            "text/plain": [
              "  media_type  ... total_media\n",
              "0      IMAGE  ...        4132\n",
              "1      VIDEO  ...        4132\n",
              "2      IMAGE  ...        4132\n",
              "3      IMAGE  ...        4132\n",
              "4      IMAGE  ...        4132\n",
              "\n",
              "[5 rows x 9 columns]"
            ]
          },
          "metadata": {
            "tags": []
          },
          "execution_count": 6
        }
      ]
    },
    {
      "cell_type": "code",
      "metadata": {
        "id": "840skc212p6W",
        "colab_type": "code",
        "colab": {}
      },
      "source": [
        "posts_all_df.to_csv(f'/content/drive/My Drive/Colab Notebooks/Instagram Data Analysis/All_Brands_Posts.csv', index=True)"
      ],
      "execution_count": null,
      "outputs": []
    },
    {
      "cell_type": "code",
      "metadata": {
        "id": "OhCSLonP-V-u",
        "colab_type": "code",
        "colab": {}
      },
      "source": [
        "#export 1 file for 1 brand - if needed\n",
        "#for name in target_usernames:\n",
        "#  posts = post_statistics(name,20)\n",
        "#  posts.to_csv(f'Export files/{name}_posts.csv', index=True)"
      ],
      "execution_count": null,
      "outputs": []
    }
  ]
}